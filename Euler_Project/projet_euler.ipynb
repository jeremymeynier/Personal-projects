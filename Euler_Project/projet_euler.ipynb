{
 "cells": [
  {
   "cell_type": "markdown",
   "metadata": {},
   "source": [
    "# Projet Euler"
   ]
  },
  {
   "cell_type": "code",
   "execution_count": 1,
   "metadata": {
    "collapsed": true
   },
   "outputs": [],
   "source": [
    "import numpy as np\n",
    "import matplotlib.pyplot as plt\n",
    "from time import time"
   ]
  },
  {
   "cell_type": "markdown",
   "metadata": {},
   "source": [
    "# Fonctions utiles"
   ]
  },
  {
   "cell_type": "code",
   "execution_count": 2,
   "metadata": {
    "collapsed": true
   },
   "outputs": [],
   "source": [
    "def appartient_liste_trie(n, L):\n",
    "    # marche si liste triée\n",
    "    elt_min = 0\n",
    "    elt_max = len(L) - 1\n",
    "    if n == L[elt_min] or n == L[elt_max]:\n",
    "        return True\n",
    "    if n < L[elt_min] or n > L[elt_max]:\n",
    "            return False\n",
    "    while elt_max - elt_min > 1  :\n",
    "        elt_int = (elt_min + elt_max) // 2\n",
    "        if n < L[elt_int]:\n",
    "            elt_max = elt_int\n",
    "        elif n > L[elt_int]:\n",
    "            elt_min = elt_int\n",
    "        else:\n",
    "            return True\n",
    "    return False"
   ]
  },
  {
   "cell_type": "code",
   "execution_count": 3,
   "metadata": {
    "collapsed": true
   },
   "outputs": [],
   "source": [
    "def appartient_liste_nontrie(n,L):\n",
    "    elt = 0\n",
    "    while elt < len(L):\n",
    "        if n == L[elt]:\n",
    "            return True\n",
    "        else:\n",
    "            elt += 1\n",
    "    return False"
   ]
  },
  {
   "cell_type": "code",
   "execution_count": 4,
   "metadata": {
    "collapsed": true
   },
   "outputs": [],
   "source": [
    "# nombre = somme de 2 nombres?\n",
    "def somme_2_nombres(i,L):\n",
    "    longueur = len(L)\n",
    "    ppn = 0\n",
    "    while i > L[ppn] and ppn < longueur - 1:\n",
    "        ppn += 1\n",
    "    STOP = False\n",
    "    resultat = False\n",
    "    j = 0\n",
    "    while resultat == False and STOP == False:\n",
    "        a = L[j]\n",
    "        b = L[ppn]\n",
    "        if i == a + b:\n",
    "            resultat = True\n",
    "        elif i > a + b:\n",
    "            j += 1\n",
    "        else:\n",
    "            ppn -= 1\n",
    "        if ppn < j:\n",
    "            STOP = True\n",
    "    return resultat"
   ]
  },
  {
   "cell_type": "code",
   "execution_count": 5,
   "metadata": {
    "collapsed": true
   },
   "outputs": [],
   "source": [
    "#Détermination nombre premiers jusqu'à n\n",
    "def nombres_premiers(n):\n",
    "    j = 1\n",
    "    if n < 2:\n",
    "        return []\n",
    "    L =[2]\n",
    "    for i in range(3, n+1):\n",
    "        a = 0\n",
    "        longueur = 0\n",
    "        while L[longueur] <= np.sqrt(i) and a == 0:\n",
    "            if i % L[longueur] == 0:\n",
    "                a = 1\n",
    "            longueur += 1\n",
    "        if a == 0:\n",
    "            L.append(i)\n",
    "    return(np.array(L))               "
   ]
  },
  {
   "cell_type": "code",
   "execution_count": 6,
   "metadata": {
    "collapsed": true
   },
   "outputs": [],
   "source": [
    "def diviseurs(n):\n",
    "    #algo linéaire non optimisé\n",
    "    L = []\n",
    "    if n % 2 == 1:\n",
    "        for i in range(1, n // 2 + 1, 2):\n",
    "            if n % i == 0:\n",
    "                L.append(i)\n",
    "    else:\n",
    "        for i in range(1, n // 2 + 1):\n",
    "            if n % i == 0:\n",
    "                L.append(i)\n",
    "    L.append(n)\n",
    "    return L"
   ]
  },
  {
   "cell_type": "code",
   "execution_count": 7,
   "metadata": {
    "collapsed": true
   },
   "outputs": [],
   "source": [
    "# Détermination des diviseurs de n et de son nombre. Effet de bord attention\n",
    "def diviseurs_bis_nombre_diviseur(n):\n",
    "    # à finir, actuellement bien plus lent que le premier\n",
    "    i = 0\n",
    "    nombre = 1\n",
    "    L=[]\n",
    "    while n > 1:\n",
    "        j = 1\n",
    "        div = False\n",
    "        while n % liste[i] == 0:\n",
    "            n /= liste[i]\n",
    "            L.append(liste[i])\n",
    "            div = True\n",
    "            j += 1\n",
    "        if div:\n",
    "            nombre *= j\n",
    "        i += 1\n",
    "    return L, nombre\n",
    "            "
   ]
  },
  {
   "cell_type": "code",
   "execution_count": 8,
   "metadata": {
    "collapsed": true
   },
   "outputs": [],
   "source": [
    "def factoriel(n):\n",
    "    if n > 1:\n",
    "        return n * factoriel(n - 1) \n",
    "    else:\n",
    "        return 1"
   ]
  },
  {
   "cell_type": "markdown",
   "metadata": {},
   "source": [
    "## Probleme 11 : Terminé"
   ]
  },
  {
   "cell_type": "code",
   "execution_count": 192,
   "metadata": {
    "collapsed": true
   },
   "outputs": [],
   "source": [
    "A =\"\"\"08 02 22 97 38 15 00 40 00 75 04 05 07 78 52 12 50 77 91 08\n",
    "49 49 99 40 17 81 18 57 60 87 17 40 98 43 69 48 04 56 62 00\n",
    "81 49 31 73 55 79 14 29 93 71 40 67 53 88 30 03 49 13 36 65\n",
    "52 70 95 23 04 60 11 42 69 24 68 56 01 32 56 71 37 02 36 91\n",
    "22 31 16 71 51 67 63 89 41 92 36 54 22 40 40 28 66 33 13 80\n",
    "24 47 32 60 99 03 45 02 44 75 33 53 78 36 84 20 35 17 12 50\n",
    "32 98 81 28 64 23 67 10 26 38 40 67 59 54 70 66 18 38 64 70\n",
    "67 26 20 68 02 62 12 20 95 63 94 39 63 08 40 91 66 49 94 21\n",
    "24 55 58 05 66 73 99 26 97 17 78 78 96 83 14 88 34 89 63 72\n",
    "21 36 23 09 75 00 76 44 20 45 35 14 00 61 33 97 34 31 33 95\n",
    "78 17 53 28 22 75 31 67 15 94 03 80 04 62 16 14 09 53 56 92\n",
    "16 39 05 42 96 35 31 47 55 58 88 24 00 17 54 24 36 29 85 57\n",
    "86 56 00 48 35 71 89 07 05 44 44 37 44 60 21 58 51 54 17 58\n",
    "19 80 81 68 05 94 47 69 28 73 92 13 86 52 17 77 04 89 55 40\n",
    "04 52 08 83 97 35 99 16 07 97 57 32 16 26 26 79 33 27 98 66\n",
    "88 36 68 87 57 62 20 72 03 46 33 67 46 55 12 32 63 93 53 69\n",
    "04 42 16 73 38 25 39 11 24 94 72 18 08 46 29 32 40 62 76 36\n",
    "20 69 36 41 72 30 23 88 34 62 99 69 82 67 59 85 74 04 36 16\n",
    "20 73 35 29 78 31 90 01 74 31 49 71 48 86 81 16 23 57 05 54\n",
    "01 70 54 71 83 51 54 69 16 92 33 48 61 43 52 01 89 19 67 48\"\"\""
   ]
  },
  {
   "cell_type": "code",
   "execution_count": 193,
   "metadata": {
    "collapsed": true
   },
   "outputs": [],
   "source": [
    "B = np.array(list(map(int, A.split())))\n",
    "B_transfo = B.reshape((20,20))"
   ]
  },
  {
   "cell_type": "code",
   "execution_count": 194,
   "metadata": {},
   "outputs": [
    {
     "data": {
      "text/plain": [
       "70600674"
      ]
     },
     "execution_count": 194,
     "metadata": {},
     "output_type": "execute_result"
    }
   ],
   "source": [
    "## Max des lignes\n",
    "maximum = 0\n",
    "for j in range(len(B_transfo) - 3):\n",
    "    for i in range(len(B_transfo) - 3):\n",
    "        u = B_transfo[i,j] * B_transfo[i + 1, j] * B_transfo[i + 2, j] * B_transfo[i + 3, j]\n",
    "        if u > maximum:\n",
    "            maximum = u\n",
    "for j in range(len(B_transfo) - 3):\n",
    "    for i in range(len(B_transfo) - 3):\n",
    "        u = B_transfo[i,j] * B_transfo[i, j + 1] * B_transfo[i, j + 2] * B_transfo[i, j + 3]\n",
    "        if u > maximum:\n",
    "            maximum = u\n",
    "for j in range(len(B_transfo) - 3):\n",
    "    for i in range(len(B_transfo) - 3):\n",
    "        u = B_transfo[i,j] * B_transfo[i+1, j+1] * B_transfo[i+2, j+2] * B_transfo[i+3, j+3]\n",
    "        if u > maximum:\n",
    "            maximum = u\n",
    "for j in range(len(B_transfo) - 1, 3, -1):\n",
    "    for i in range(len(B_transfo) - 3):\n",
    "        u = B_transfo[i,j] * B_transfo[i+1, j-1] * B_transfo[i+2, j-2] * B_transfo[i+3, j-3]\n",
    "        if u > maximum:\n",
    "            maximum = u \n",
    "maximum"
   ]
  },
  {
   "cell_type": "markdown",
   "metadata": {},
   "source": [
    "## Probleme 12 : Terminé"
   ]
  },
  {
   "cell_type": "code",
   "execution_count": 11,
   "metadata": {},
   "outputs": [
    {
     "data": {
      "text/plain": [
       "76576500"
      ]
     },
     "execution_count": 11,
     "metadata": {},
     "output_type": "execute_result"
    }
   ],
   "source": [
    "liste = nombres_premiers(int(1e5))\n",
    "a = 1\n",
    "i = 1\n",
    "stop = False\n",
    "while not stop:\n",
    "    i += 1\n",
    "    a += i\n",
    "    if diviseurs_bis_nombre_diviseur(a)[1] > 500:\n",
    "        stop = True\n",
    "a"
   ]
  },
  {
   "cell_type": "markdown",
   "metadata": {},
   "source": [
    "## Probleme 13 : Terminé"
   ]
  },
  {
   "cell_type": "code",
   "execution_count": 12,
   "metadata": {
    "collapsed": true
   },
   "outputs": [],
   "source": [
    "A_bis = \"\"\"37107287533902102798797998220837590246510135740250\n",
    "46376937677490009712648124896970078050417018260538\n",
    "74324986199524741059474233309513058123726617309629\n",
    "91942213363574161572522430563301811072406154908250\n",
    "23067588207539346171171980310421047513778063246676\n",
    "89261670696623633820136378418383684178734361726757\n",
    "28112879812849979408065481931592621691275889832738\n",
    "44274228917432520321923589422876796487670272189318\n",
    "47451445736001306439091167216856844588711603153276\n",
    "70386486105843025439939619828917593665686757934951\n",
    "62176457141856560629502157223196586755079324193331\n",
    "64906352462741904929101432445813822663347944758178\n",
    "92575867718337217661963751590579239728245598838407\n",
    "58203565325359399008402633568948830189458628227828\n",
    "80181199384826282014278194139940567587151170094390\n",
    "35398664372827112653829987240784473053190104293586\n",
    "86515506006295864861532075273371959191420517255829\n",
    "71693888707715466499115593487603532921714970056938\n",
    "54370070576826684624621495650076471787294438377604\n",
    "53282654108756828443191190634694037855217779295145\n",
    "36123272525000296071075082563815656710885258350721\n",
    "45876576172410976447339110607218265236877223636045\n",
    "17423706905851860660448207621209813287860733969412\n",
    "81142660418086830619328460811191061556940512689692\n",
    "51934325451728388641918047049293215058642563049483\n",
    "62467221648435076201727918039944693004732956340691\n",
    "15732444386908125794514089057706229429197107928209\n",
    "55037687525678773091862540744969844508330393682126\n",
    "18336384825330154686196124348767681297534375946515\n",
    "80386287592878490201521685554828717201219257766954\n",
    "78182833757993103614740356856449095527097864797581\n",
    "16726320100436897842553539920931837441497806860984\n",
    "48403098129077791799088218795327364475675590848030\n",
    "87086987551392711854517078544161852424320693150332\n",
    "59959406895756536782107074926966537676326235447210\n",
    "69793950679652694742597709739166693763042633987085\n",
    "41052684708299085211399427365734116182760315001271\n",
    "65378607361501080857009149939512557028198746004375\n",
    "35829035317434717326932123578154982629742552737307\n",
    "94953759765105305946966067683156574377167401875275\n",
    "88902802571733229619176668713819931811048770190271\n",
    "25267680276078003013678680992525463401061632866526\n",
    "36270218540497705585629946580636237993140746255962\n",
    "24074486908231174977792365466257246923322810917141\n",
    "91430288197103288597806669760892938638285025333403\n",
    "34413065578016127815921815005561868836468420090470\n",
    "23053081172816430487623791969842487255036638784583\n",
    "11487696932154902810424020138335124462181441773470\n",
    "63783299490636259666498587618221225225512486764533\n",
    "67720186971698544312419572409913959008952310058822\n",
    "95548255300263520781532296796249481641953868218774\n",
    "76085327132285723110424803456124867697064507995236\n",
    "37774242535411291684276865538926205024910326572967\n",
    "23701913275725675285653248258265463092207058596522\n",
    "29798860272258331913126375147341994889534765745501\n",
    "18495701454879288984856827726077713721403798879715\n",
    "38298203783031473527721580348144513491373226651381\n",
    "34829543829199918180278916522431027392251122869539\n",
    "40957953066405232632538044100059654939159879593635\n",
    "29746152185502371307642255121183693803580388584903\n",
    "41698116222072977186158236678424689157993532961922\n",
    "62467957194401269043877107275048102390895523597457\n",
    "23189706772547915061505504953922979530901129967519\n",
    "86188088225875314529584099251203829009407770775672\n",
    "11306739708304724483816533873502340845647058077308\n",
    "82959174767140363198008187129011875491310547126581\n",
    "97623331044818386269515456334926366572897563400500\n",
    "42846280183517070527831839425882145521227251250327\n",
    "55121603546981200581762165212827652751691296897789\n",
    "32238195734329339946437501907836945765883352399886\n",
    "75506164965184775180738168837861091527357929701337\n",
    "62177842752192623401942399639168044983993173312731\n",
    "32924185707147349566916674687634660915035914677504\n",
    "99518671430235219628894890102423325116913619626622\n",
    "73267460800591547471830798392868535206946944540724\n",
    "76841822524674417161514036427982273348055556214818\n",
    "97142617910342598647204516893989422179826088076852\n",
    "87783646182799346313767754307809363333018982642090\n",
    "10848802521674670883215120185883543223812876952786\n",
    "71329612474782464538636993009049310363619763878039\n",
    "62184073572399794223406235393808339651327408011116\n",
    "66627891981488087797941876876144230030984490851411\n",
    "60661826293682836764744779239180335110989069790714\n",
    "85786944089552990653640447425576083659976645795096\n",
    "66024396409905389607120198219976047599490197230297\n",
    "64913982680032973156037120041377903785566085089252\n",
    "16730939319872750275468906903707539413042652315011\n",
    "94809377245048795150954100921645863754710598436791\n",
    "78639167021187492431995700641917969777599028300699\n",
    "15368713711936614952811305876380278410754449733078\n",
    "40789923115535562561142322423255033685442488917353\n",
    "44889911501440648020369068063960672322193204149535\n",
    "41503128880339536053299340368006977710650566631954\n",
    "81234880673210146739058568557934581403627822703280\n",
    "82616570773948327592232845941706525094512325230608\n",
    "22918802058777319719839450180888072429661980811197\n",
    "77158542502016545090413245809786882778948721859617\n",
    "72107838435069186155435662884062257473692284509516\n",
    "20849603980134001723930671666823555245252804609722\n",
    "53503534226472524250874054075591789781264330331690\"\"\""
   ]
  },
  {
   "cell_type": "code",
   "execution_count": 13,
   "metadata": {},
   "outputs": [
    {
     "data": {
      "text/plain": [
       "5537376230"
      ]
     },
     "execution_count": 13,
     "metadata": {},
     "output_type": "execute_result"
    }
   ],
   "source": [
    "B_bis = np.array(list(map(int, A_bis.split())))\n",
    "int(str(np.sum(B_bis, axis = 0))[:10])"
   ]
  },
  {
   "cell_type": "markdown",
   "metadata": {},
   "source": [
    "## Probleme 18 : Terminé"
   ]
  },
  {
   "cell_type": "code",
   "execution_count": 189,
   "metadata": {
    "collapsed": true
   },
   "outputs": [],
   "source": [
    "A = \"\"\"75 0 0 0 0 0 0 0 0 0 0 0 0 0 0 \n",
    "95 64 0 0 0 0 0 0 0 0 0 0 0 0 0\n",
    "17 47 82 0 0 0 0 0 0 0 0 0 0 0 0\n",
    "18 35 87 10 0 0 0 0 0 0 0 0 0 0 0 \n",
    "20 04 82 47 65 0 0 0 0 0 0 0 0 0 0 \n",
    "19 01 23 75 03 34 0 0 0 0 0 0 0 0 0\n",
    "88 02 77 73 07 63 67 0 0 0 0 0 0 0 0\n",
    "99 65 04 28 06 16 70 92 0 0 0 0 0 0 0 \n",
    "41 41 26 56 83 40 80 70 33 0 0 0 0 0 0 \n",
    "41 48 72 33 47 32 37 16 94 29 0 0 0 0 0\n",
    "53 71 44 65 25 43 91 52 97 51 14 0 0 0 0\n",
    "70 11 33 28 77 73 17 78 39 68 17 57 0 0 0\n",
    "91 71 52 38 17 14 91 43 58 50 27 29 48 0 0\n",
    "63 66 04 68 89 53 67 30 73 16 69 87 40 31 0\n",
    "04 62 98 27 23 09 70 98 73 93 38 53 60 04 23\n",
    "\"\"\""
   ]
  },
  {
   "cell_type": "code",
   "execution_count": 190,
   "metadata": {},
   "outputs": [
    {
     "data": {
      "text/plain": [
       "array([[75,  0,  0,  0,  0,  0,  0,  0,  0,  0,  0,  0,  0,  0,  0],\n",
       "       [95, 64,  0,  0,  0,  0,  0,  0,  0,  0,  0,  0,  0,  0,  0],\n",
       "       [17, 47, 82,  0,  0,  0,  0,  0,  0,  0,  0,  0,  0,  0,  0],\n",
       "       [18, 35, 87, 10,  0,  0,  0,  0,  0,  0,  0,  0,  0,  0,  0],\n",
       "       [20,  4, 82, 47, 65,  0,  0,  0,  0,  0,  0,  0,  0,  0,  0],\n",
       "       [19,  1, 23, 75,  3, 34,  0,  0,  0,  0,  0,  0,  0,  0,  0],\n",
       "       [88,  2, 77, 73,  7, 63, 67,  0,  0,  0,  0,  0,  0,  0,  0],\n",
       "       [99, 65,  4, 28,  6, 16, 70, 92,  0,  0,  0,  0,  0,  0,  0],\n",
       "       [41, 41, 26, 56, 83, 40, 80, 70, 33,  0,  0,  0,  0,  0,  0],\n",
       "       [41, 48, 72, 33, 47, 32, 37, 16, 94, 29,  0,  0,  0,  0,  0],\n",
       "       [53, 71, 44, 65, 25, 43, 91, 52, 97, 51, 14,  0,  0,  0,  0],\n",
       "       [70, 11, 33, 28, 77, 73, 17, 78, 39, 68, 17, 57,  0,  0,  0],\n",
       "       [91, 71, 52, 38, 17, 14, 91, 43, 58, 50, 27, 29, 48,  0,  0],\n",
       "       [63, 66,  4, 68, 89, 53, 67, 30, 73, 16, 69, 87, 40, 31,  0],\n",
       "       [ 4, 62, 98, 27, 23,  9, 70, 98, 73, 93, 38, 53, 60,  4, 23]])"
      ]
     },
     "execution_count": 190,
     "metadata": {},
     "output_type": "execute_result"
    }
   ],
   "source": [
    "B = np.array(list(map(int, A.split())))\n",
    "B = B.reshape(15, 15)\n",
    "B"
   ]
  },
  {
   "cell_type": "code",
   "execution_count": 191,
   "metadata": {},
   "outputs": [
    {
     "data": {
      "text/plain": [
       "1074"
      ]
     },
     "execution_count": 191,
     "metadata": {},
     "output_type": "execute_result"
    }
   ],
   "source": [
    "for i in range(1, len(B)):\n",
    "    for j in range(len(B) - i):\n",
    "            B[len(B) - 1 - i][j] += max(B[len(B) - i][j], B[len(B) - i][j + 1])\n",
    "B[0][0]   "
   ]
  },
  {
   "cell_type": "code",
   "execution_count": 175,
   "metadata": {},
   "outputs": [
    {
     "data": {
      "text/plain": [
       "array([[1074,    0,    0,    0,    0,    0,    0,    0,    0,    0,    0,\n",
       "           0,    0,    0,    0],\n",
       "       [ 995,  999,    0,    0,    0,    0,    0,    0,    0,    0,    0,\n",
       "           0,    0,    0,    0],\n",
       "       [ 818,  900,  935,    0,    0,    0,    0,    0,    0,    0,    0,\n",
       "           0,    0,    0,    0],\n",
       "       [ 704,  801,  853,  792,    0,    0,    0,    0,    0,    0,    0,\n",
       "           0,    0,    0,    0],\n",
       "       [ 686,  640,  766,  731,  782,    0,    0,    0,    0,    0,    0,\n",
       "           0,    0,    0,    0],\n",
       "       [ 666,  614,  636,  684,  660,  717,    0,    0,    0,    0,    0,\n",
       "           0,    0,    0,    0],\n",
       "       [ 647,  501,  613,  609,  533,  657,  683,    0,    0,    0,    0,\n",
       "           0,    0,    0,    0],\n",
       "       [ 559,  499,  479,  536,  514,  526,  594,  616,    0,    0,    0,\n",
       "           0,    0,    0,    0],\n",
       "       [ 460,  434,  419,  475,  508,  470,  510,  524,  487,    0,    0,\n",
       "           0,    0,    0,    0],\n",
       "       [ 419,  365,  393,  387,  419,  425,  430,  376,  454,  322,    0,\n",
       "           0,    0,    0,    0],\n",
       "       [ 378,  317,  231,  321,  354,  372,  393,  354,  360,  293,  247,\n",
       "           0,    0,    0,    0],\n",
       "       [ 325,  246,  187,  178,  256,  329,  273,  302,  263,  242,  193,\n",
       "         233,    0,    0,    0],\n",
       "       [ 255,  235,  154,  150,  140,  179,  256,  209,  224,  172,  174,\n",
       "         176,  148,    0,    0],\n",
       "       [ 125,  164,  102,   95,  112,  123,  165,  128,  166,  109,  122,\n",
       "         147,  100,   54,    0],\n",
       "       [   4,   62,   98,   27,   23,    9,   70,   98,   73,   93,   38,\n",
       "          53,   60,    4,   23]])"
      ]
     },
     "execution_count": 175,
     "metadata": {},
     "output_type": "execute_result"
    }
   ],
   "source": [
    "B"
   ]
  },
  {
   "cell_type": "markdown",
   "metadata": {},
   "source": [
    "## Probleme 21 : Terminé"
   ]
  },
  {
   "cell_type": "code",
   "execution_count": 18,
   "metadata": {
    "collapsed": true
   },
   "outputs": [],
   "source": [
    "def sum_proper_diviser(n):\n",
    "    L = []\n",
    "    for i in range(1, int(n / 2) + 1):\n",
    "        if n % i == 0:\n",
    "            L.append(i)\n",
    "    return np.sum(np.array(L))"
   ]
  },
  {
   "cell_type": "code",
   "execution_count": 19,
   "metadata": {
    "collapsed": true
   },
   "outputs": [],
   "source": [
    "americal_number = []\n",
    "for i in range(1,10001):\n",
    "    a = sum_proper_diviser(i)\n",
    "    b = sum_proper_diviser(a)\n",
    "    if b == i and a!= b:\n",
    "        americal_number.append(i)\n",
    "        americal_number.append(a)"
   ]
  },
  {
   "cell_type": "code",
   "execution_count": 20,
   "metadata": {},
   "outputs": [
    {
     "data": {
      "text/plain": [
       "31626.0"
      ]
     },
     "execution_count": 20,
     "metadata": {},
     "output_type": "execute_result"
    }
   ],
   "source": [
    "np.sum(americal_number) / 2"
   ]
  },
  {
   "cell_type": "markdown",
   "metadata": {},
   "source": [
    "# Problème 22 : Terminé"
   ]
  },
  {
   "cell_type": "code",
   "execution_count": 333,
   "metadata": {
    "collapsed": true
   },
   "outputs": [],
   "source": [
    "mon_dictionnaire = {1:\"A\", 2:\"B\", 3:\"C\", 4:\"D\", 5:\"E\", 6:\"F\", 7:\"G\", 8:\"H\", 9:\"I\", 10:\"J\",\n",
    "                   11:\"K\", 12:\"L\", 13:\"M\", 14:\"N\", 15:\"O\", 16:\"P\", 17:\"Q\", 18:\"R\", 19:\"S\",\n",
    "                   20:\"T\", 21:\"U\", 22:\"V\", 23:\"W\", 24:\"X\", 25:\"Y\", 26:\"Z\"}\n",
    "\n"
   ]
  },
  {
   "cell_type": "code",
   "execution_count": 334,
   "metadata": {
    "collapsed": true
   },
   "outputs": [],
   "source": [
    "filename = 'p022_names.txt'\n",
    "with open(filename, 'r') as mon_fichier:\n",
    "    texte = mon_fichier.read()"
   ]
  },
  {
   "cell_type": "code",
   "execution_count": 335,
   "metadata": {},
   "outputs": [
    {
     "data": {
      "text/plain": [
       "871198282"
      ]
     },
     "execution_count": 335,
     "metadata": {},
     "output_type": "execute_result"
    }
   ],
   "source": [
    "texte1 = texte.replace('\"','')\n",
    "texte1 = texte1.split(\",\")\n",
    "texte1.sort()\n",
    "\n",
    "for i in range(len(texte1)):\n",
    "    for cle in mon_dictionnaire.keys():\n",
    "        texte1[i] = texte1[i].replace(mon_dictionnaire[cle], str(cle) + \" \")\n",
    "\n",
    "compteur = 0\n",
    "for i in range(len(texte1)):\n",
    "    L = map(int, texte1[i].split())\n",
    "    compteur += (i + 1) * sum(L)\n",
    "compteur"
   ]
  },
  {
   "cell_type": "markdown",
   "metadata": {},
   "source": [
    "# Problème 23 : Terminé"
   ]
  },
  {
   "cell_type": "code",
   "execution_count": null,
   "metadata": {
    "collapsed": true
   },
   "outputs": [],
   "source": [
    "abondant_number = []\n",
    "for i in range(1,28124):\n",
    "    if sum_proper_diviser(i) > i:\n",
    "        abondant_number.append(i)\n",
    "    "
   ]
  },
  {
   "cell_type": "code",
   "execution_count": null,
   "metadata": {
    "collapsed": true
   },
   "outputs": [],
   "source": [
    "non_abondant =[]\n",
    "for i in range(1, 28124):\n",
    "    if somme_2_nombres(i,abondant_number) == False:\n",
    "        non_abondant.append(i)\n",
    "\n",
    "np.sum(non_abondant)"
   ]
  },
  {
   "cell_type": "markdown",
   "metadata": {},
   "source": [
    "# Problème 24 : Terminé"
   ]
  },
  {
   "cell_type": "code",
   "execution_count": 69,
   "metadata": {},
   "outputs": [
    {
     "data": {
      "text/plain": [
       "'2783915460'"
      ]
     },
     "execution_count": 69,
     "metadata": {},
     "output_type": "execute_result"
    }
   ],
   "source": [
    "L = [i for i in range(10)]\n",
    "a = int(1e6) - 1\n",
    "s=''\n",
    "for i in range(9,-1, -1):\n",
    "    j = 0\n",
    "    while a - j * factoriel(i) >= 0 and j <= i:\n",
    "        j += 1\n",
    "    j -= 1\n",
    "    a -= j * factoriel(i)\n",
    "    s += str(L[j])\n",
    "    L.pop(j)\n",
    "s"
   ]
  },
  {
   "cell_type": "markdown",
   "metadata": {
    "collapsed": true
   },
   "source": [
    "# Problème 27 : Terminé"
   ]
  },
  {
   "cell_type": "code",
   "execution_count": 92,
   "metadata": {},
   "outputs": [
    {
     "data": {
      "text/plain": [
       "-59231"
      ]
     },
     "execution_count": 92,
     "metadata": {},
     "output_type": "execute_result"
    }
   ],
   "source": [
    "nombres_premiers_10000 = nombres_premiers(10000)\n",
    "n_max = 1\n",
    "a_max = 0\n",
    "b_max = 0\n",
    "for a in range(-1000, 1001):\n",
    "    for b in range(-1000, 1001):\n",
    "        n = 0\n",
    "        while appartient_liste_optimise((n ** 2 + a * n + b), nombres_premiers_10000):\n",
    "            n += 1\n",
    "        if n > n_max:\n",
    "            n_max = n\n",
    "            a_max = a\n",
    "            b_max = b\n",
    "a_max * b_max       "
   ]
  },
  {
   "cell_type": "markdown",
   "metadata": {},
   "source": [
    "# Problème 28 : Terminé"
   ]
  },
  {
   "cell_type": "code",
   "execution_count": 205,
   "metadata": {},
   "outputs": [
    {
     "name": "stdout",
     "output_type": "stream",
     "text": [
      "0.7441129684448242\n"
     ]
    }
   ],
   "source": [
    "A = np.zeros((1001,1001))\n",
    "A[500][500] = 1\n",
    "A[500][501] = 2\n",
    "i = 500\n",
    "j= 501\n",
    "droite = False\n",
    "bas = True\n",
    "gauche = False\n",
    "haut = False\n",
    "nombre = 3\n",
    "compt = 1\n",
    "k = 2\n",
    "for n in range(1, 2000):\n",
    "    if n % 2 == 0:\n",
    "        k += 1\n",
    "    compt = 1\n",
    "    if n == 2000:\n",
    "        k -= 1\n",
    "    while compt < k:\n",
    "        if droite:\n",
    "            j += 1\n",
    "            A[i][j] = nombre\n",
    "        elif bas:\n",
    "            i +=1\n",
    "            A[i][j] = nombre\n",
    "        elif gauche:\n",
    "            j -= 1\n",
    "            A[i][j] = nombre\n",
    "        else:\n",
    "            i -= 1\n",
    "            A[i][j] = nombre\n",
    "        compt +=1\n",
    "        nombre += 1\n",
    "    # changement de direction\n",
    "    if droite:\n",
    "        droite = False\n",
    "        bas = True\n",
    "    elif bas:\n",
    "        bas = False\n",
    "        gauche = True\n",
    "    elif gauche:\n",
    "        gauche = False\n",
    "        haut = True\n",
    "    else:\n",
    "        haut = False\n",
    "        droite = True "
   ]
  },
  {
   "cell_type": "code",
   "execution_count": 201,
   "metadata": {},
   "outputs": [
    {
     "data": {
      "text/plain": [
       "669171001.0"
      ]
     },
     "execution_count": 201,
     "metadata": {},
     "output_type": "execute_result"
    }
   ],
   "source": [
    "somme = 0\n",
    "for i in range(len(A)):\n",
    "    somme += A[i][i]\n",
    "    somme += A[i][len(A) - 1 -i]\n",
    "somme - 1"
   ]
  },
  {
   "cell_type": "markdown",
   "metadata": {},
   "source": [
    "# Problème 29 : Terminé"
   ]
  },
  {
   "cell_type": "code",
   "execution_count": 211,
   "metadata": {
    "collapsed": true
   },
   "outputs": [],
   "source": [
    "liste = []\n",
    "for a in range(2, 101):\n",
    "    for b in range(2, 101):\n",
    "        if appartient_liste_nontrie(a ** b, liste) == False:\n",
    "            liste.append(a ** b)\n",
    "len(liste)"
   ]
  },
  {
   "cell_type": "markdown",
   "metadata": {},
   "source": [
    "# Problème 30 : Terminé"
   ]
  },
  {
   "cell_type": "code",
   "execution_count": 138,
   "metadata": {},
   "outputs": [
    {
     "data": {
      "text/plain": [
       "443839"
      ]
     },
     "execution_count": 138,
     "metadata": {},
     "output_type": "execute_result"
    }
   ],
   "source": [
    "liste_nombre = []\n",
    "for i in range(2, 1000000):\n",
    "    s = str(i)\n",
    "    nombre = 0\n",
    "    for k in range(len(s)):\n",
    "        nombre += int(s[k]) ** 5\n",
    "    if i == nombre:\n",
    "        liste_nombre.append(i)    \n",
    "np.sum(liste_nombre)"
   ]
  },
  {
   "cell_type": "markdown",
   "metadata": {},
   "source": [
    "# Problème 31 : Terminé"
   ]
  },
  {
   "cell_type": "code",
   "execution_count": 214,
   "metadata": {},
   "outputs": [
    {
     "data": {
      "text/plain": [
       "73682"
      ]
     },
     "execution_count": 214,
     "metadata": {},
     "output_type": "execute_result"
    }
   ],
   "source": [
    "compte = 0\n",
    "for g in range(2):\n",
    "    nombre1 = 200 * g\n",
    "    if nombre1 > 100 and nombre1 == 200:\n",
    "            compte += 1\n",
    "    elif nombre1 <= 100:\n",
    "        for f in range(3):\n",
    "            nombre2 = nombre1 + 100 * f\n",
    "            if nombre2 > 150 and nombre2 == 200:\n",
    "                compte += 1\n",
    "            elif nombre2 <= 150:\n",
    "                for e in range(5):\n",
    "                    nombre3 = nombre2 + 50 * e\n",
    "                    if nombre3 > 180 and nombre3 == 200:\n",
    "                        compte += 1\n",
    "                    elif nombre3 <= 180:\n",
    "                        for a in range(51):\n",
    "                            nombre4 = nombre3 + 20 * a\n",
    "                            if nombre4 > 190 and nombre4 == 200:\n",
    "                                compte += 1\n",
    "                            elif nombre4 <= 190:\n",
    "                                for d in range(21):\n",
    "                                    nombre5 = nombre4 + 10 * d\n",
    "                                    if nombre5 > 195 and nombre5 == 200:\n",
    "                                        compte += 1\n",
    "                                    elif nombre5 <= 195:\n",
    "                                        for c in range(41):\n",
    "                                            nombre6 = nombre5 + 5 * c\n",
    "                                            if nombre6 > 198 and nombre6 == 200:\n",
    "                                                compte += 1\n",
    "                                            elif nombre6 <= 198:\n",
    "                                                for b in range(101):\n",
    "                                                    nombre7 = nombre6 + 2 * b\n",
    "                                                    if nombre7 <= 200:\n",
    "                                                        compte += 1\n",
    "\n",
    "compte                                             "
   ]
  },
  {
   "cell_type": "markdown",
   "metadata": {},
   "source": [
    "# Problème 32 : Terminé"
   ]
  },
  {
   "cell_type": "code",
   "execution_count": 121,
   "metadata": {
    "collapsed": true
   },
   "outputs": [],
   "source": [
    "L2 = []\n",
    "L3 = []\n",
    "L4 = []\n",
    "L5 = []\n",
    "for a in range(1, 10):\n",
    "    u1 = str(a)\n",
    "    for b in range(1, 10):\n",
    "        if str(b) not in u1:\n",
    "            u2 = u1 + str(b)\n",
    "            L2.append(u2)\n",
    "            for c in range(1, 10):\n",
    "                if str(c) not in u2:\n",
    "                    u3 = u2 + str(c)\n",
    "                    L3.append(u3)\n",
    "                    for d in range(1, 10):\n",
    "                        if str(d) not in u3:\n",
    "                            u4 = u3 + str(d)\n",
    "                            L4.append(u4)\n",
    "                            for e in range(1, 10):\n",
    "                                if str(e) not in u4:\n",
    "                                    u5 = u4 + str(e)\n",
    "                                    L5.append(u5)"
   ]
  },
  {
   "cell_type": "code",
   "execution_count": 122,
   "metadata": {
    "collapsed": true
   },
   "outputs": [],
   "source": [
    "final = []\n",
    "final_sum = []\n",
    "for i in range(len(L2)):\n",
    "    for j in range(len(L3)):\n",
    "        a = str(int(L2[i]) * int(L3[j]))\n",
    "        if a in L4:\n",
    "            final.append(a)\n",
    "            final_sum.append(L2[i] + L3[j] + a)\n",
    "for i in range(1, 10):\n",
    "    for j in range(len(L4)):\n",
    "        a = str(i * int(L4[j]))\n",
    "        if a in L4:\n",
    "            final.append(a)\n",
    "            final_sum.append(str(i) + L4[j] + a)      "
   ]
  },
  {
   "cell_type": "code",
   "execution_count": 115,
   "metadata": {
    "collapsed": true
   },
   "outputs": [],
   "source": [
    "def bon_nombre(k):\n",
    "    bon_nombre = (len(k) == 9)\n",
    "    i = 1\n",
    "    while bon_nombre and i <= 9:\n",
    "        if str(i) not in k:\n",
    "            bon_nombre = False\n",
    "        i += 1\n",
    "    return bon_nombre"
   ]
  },
  {
   "cell_type": "code",
   "execution_count": 163,
   "metadata": {},
   "outputs": [
    {
     "data": {
      "text/plain": [
       "45228"
      ]
     },
     "execution_count": 163,
     "metadata": {},
     "output_type": "execute_result"
    }
   ],
   "source": [
    "liste = np.unique([int(a[5:9]) for a in final_sum if bon_nombre(a)])\n",
    "np.sum(liste)"
   ]
  },
  {
   "cell_type": "markdown",
   "metadata": {},
   "source": [
    "# Problème 33 : Terminé"
   ]
  },
  {
   "cell_type": "code",
   "execution_count": 131,
   "metadata": {},
   "outputs": [
    {
     "data": {
      "text/plain": [
       "[(1, 4), (1, 5), (2, 5), (4, 8)]"
      ]
     },
     "execution_count": 131,
     "metadata": {},
     "output_type": "execute_result"
    }
   ],
   "source": [
    "L = []\n",
    "L2 = []\n",
    "for i in range(10, 100):\n",
    "    for j in range(i + 1, 100):\n",
    "        if i % 10 != 0 and j % 10 != 0:\n",
    "            indicateur = False\n",
    "            resultat = i / j\n",
    "            s1 = str(i)\n",
    "            s2 = str(j)\n",
    "            if s1[0] in s2:\n",
    "                s2 = s2.replace(s1[0], '')\n",
    "                s1 = s1.replace(s1[0], '')\n",
    "                indicateur = True\n",
    "            elif s1[1] in s2:\n",
    "                s2 = s2.replace(s1[1], '')\n",
    "                s1 = s1.replace(s1[1], '')\n",
    "                indicateur = True\n",
    "            if indicateur and len(s1) > 0 and len(s2) > 0 and (int(s1) / int(s2)) == i / j:\n",
    "                L.append((i, j))\n",
    "                L2.append((int(s1), int(s2)))\n",
    "        \n",
    "L2"
   ]
  },
  {
   "cell_type": "markdown",
   "metadata": {},
   "source": [
    "# Problème 34 : Terminé"
   ]
  },
  {
   "cell_type": "code",
   "execution_count": 149,
   "metadata": {},
   "outputs": [
    {
     "data": {
      "text/plain": [
       "40730"
      ]
     },
     "execution_count": 149,
     "metadata": {},
     "output_type": "execute_result"
    }
   ],
   "source": [
    "liste_nombre = []\n",
    "for i in range(3, 1000000):\n",
    "    s = str(i)\n",
    "    nombre = 0\n",
    "    for k in range(len(s)):\n",
    "        nombre += factoriel(int(s[k]))\n",
    "    if i == nombre:\n",
    "        liste_nombre.append(i)    \n",
    "np.sum(liste_nombre)"
   ]
  },
  {
   "cell_type": "markdown",
   "metadata": {},
   "source": [
    "# Problème 35 : Terminé"
   ]
  },
  {
   "cell_type": "code",
   "execution_count": 188,
   "metadata": {},
   "outputs": [
    {
     "data": {
      "text/plain": [
       "55"
      ]
     },
     "execution_count": 188,
     "metadata": {},
     "output_type": "execute_result"
    }
   ],
   "source": [
    "liste = nombres_premiers(int(1e6))\n",
    "L = []\n",
    "for i in range(2, int(1e6)):\n",
    "    appartient = appartient_liste_trie(i, liste)\n",
    "    s = str(i)\n",
    "    compteur = 0\n",
    "    while appartient and compteur < len(s) - 1:\n",
    "        s = s[1:] + s[0]\n",
    "        appartient = appartient_liste_trie(int(s), liste)\n",
    "        compteur += 1\n",
    "    if appartient:\n",
    "        L.append(i)\n",
    "len(L)   "
   ]
  },
  {
   "cell_type": "markdown",
   "metadata": {},
   "source": [
    "# Problème 36 : Terminé"
   ]
  },
  {
   "cell_type": "code",
   "execution_count": 235,
   "metadata": {
    "collapsed": true
   },
   "outputs": [],
   "source": [
    "def palindrome(s):\n",
    "    i = 0\n",
    "    resultat = True\n",
    "    while resultat and i < len(s) // 2:\n",
    "        if s[i] != s[len(s) - 1 - i]:\n",
    "            resultat = False\n",
    "        i += 1\n",
    "    return resultat\n",
    "     "
   ]
  },
  {
   "cell_type": "code",
   "execution_count": 243,
   "metadata": {
    "collapsed": true
   },
   "outputs": [],
   "source": [
    "def binaire(n):\n",
    "    i = 0\n",
    "    while 2 ** i <= n:\n",
    "        i += 1\n",
    "    L = [0 for _ in range(i)]\n",
    "    L[i - 1] = 1\n",
    "    n -= 2 ** (i-1)\n",
    "    while n > 1:\n",
    "        i = 0\n",
    "        while 2 ** i <= n:\n",
    "            i += 1\n",
    "        L[i - 1] = 1\n",
    "        n -= 2 ** (i - 1)\n",
    "    if n == 1:\n",
    "        L[0] = 1\n",
    "        \n",
    "    s = ''\n",
    "    for j in range(len(L)):\n",
    "        s += str(L[j])   \n",
    "    return s  "
   ]
  },
  {
   "cell_type": "code",
   "execution_count": 245,
   "metadata": {},
   "outputs": [
    {
     "data": {
      "text/plain": [
       "872187"
      ]
     },
     "execution_count": 245,
     "metadata": {},
     "output_type": "execute_result"
    }
   ],
   "source": [
    "L = []\n",
    "for k in range(1, int(1e6)):\n",
    "    if palindrome(str(k)) and palindrome(str(binaire(k))):\n",
    "        L.append(k)\n",
    "np.sum(L)"
   ]
  },
  {
   "cell_type": "markdown",
   "metadata": {},
   "source": [
    "# Problème 37 : Terminé"
   ]
  },
  {
   "cell_type": "code",
   "execution_count": 23,
   "metadata": {
    "collapsed": true
   },
   "outputs": [],
   "source": [
    "n_premiers = nombres_premiers(int(1e6))\n",
    "compteur = 0\n",
    "indice = 4\n",
    "liste_tronque = []\n",
    "while compteur < 11:\n",
    "    resultat = True\n",
    "    a = n_premiers[indice]\n",
    "    a1 = str(a)\n",
    "    L = [a1[:i] for i in range(1, len(a1) + 1)] + [a1[i:] for i in range(1, len(a1))]\n",
    "    i = 0\n",
    "    while resultat and i < len(L):\n",
    "        u = int(L[i])\n",
    "        if not appartient_liste_trie(u, n_premiers):\n",
    "            resultat = False\n",
    "        i += 1\n",
    "    if resultat:\n",
    "        liste_tronque.append(a)\n",
    "        compteur += 1\n",
    "    indice += 1\n",
    "np.sum(liste_tronque)        "
   ]
  },
  {
   "cell_type": "code",
   "execution_count": 18,
   "metadata": {},
   "outputs": [
    {
     "data": {
      "text/plain": [
       "['3', '37', '379', '3797', '797', '97', '7']"
      ]
     },
     "execution_count": 18,
     "metadata": {},
     "output_type": "execute_result"
    }
   ],
   "source": [
    "L"
   ]
  },
  {
   "cell_type": "markdown",
   "metadata": {},
   "source": [
    "# Problème 38 : Terminé"
   ]
  },
  {
   "cell_type": "code",
   "execution_count": 175,
   "metadata": {},
   "outputs": [
    {
     "data": {
      "text/plain": [
       "932718654"
      ]
     },
     "execution_count": 175,
     "metadata": {},
     "output_type": "execute_result"
    }
   ],
   "source": [
    "s_best = '0'\n",
    "h = 1\n",
    "while h <= 10000:\n",
    "    s = ''\n",
    "    condition = True\n",
    "    i = 1\n",
    "    while len(s) < 9 and condition:\n",
    "        a = str(h * i)\n",
    "        K = [j for j in a]\n",
    "        L = [j for j in a if j in s]\n",
    "        if len(L) == 0 and len(np.unique(K)) == len(K) and '0' not in a:\n",
    "            s += a\n",
    "            i += 1\n",
    "        else:\n",
    "            condition = False\n",
    "    if condition and len(s) <= 9 and int(s) > int(s_best):\n",
    "        s_best = s\n",
    "    h += 1\n",
    "int(s_best)"
   ]
  },
  {
   "cell_type": "markdown",
   "metadata": {},
   "source": [
    "# Problème 39 : Terminé"
   ]
  },
  {
   "cell_type": "code",
   "execution_count": 215,
   "metadata": {
    "collapsed": true
   },
   "outputs": [],
   "source": [
    "L = [0 for i in range(1001)]\n",
    "for a in range(300):\n",
    "    for b in range(a, 400):\n",
    "        c = b + 1\n",
    "        while a ** 2 + b ** 2 > c **2 and a + b + c <= 1000:\n",
    "            c += 1\n",
    "        if a ** 2 + b ** 2 == c ** 2:\n",
    "                p = a + b + c\n",
    "                L[p] += 1         "
   ]
  },
  {
   "cell_type": "markdown",
   "metadata": {},
   "source": [
    "# Problème 40 : Terminé"
   ]
  },
  {
   "cell_type": "code",
   "execution_count": 229,
   "metadata": {},
   "outputs": [
    {
     "data": {
      "text/plain": [
       "210"
      ]
     },
     "execution_count": 229,
     "metadata": {},
     "output_type": "execute_result"
    }
   ],
   "source": [
    "i = 1\n",
    "s = ''\n",
    "while len(s) < 1000000:\n",
    "    s += str(i)\n",
    "    i += 1\n",
    "\n",
    "a = 1\n",
    "for i in range(7):\n",
    "    a *= int(s[10 ** i - 1])   \n",
    "a"
   ]
  },
  {
   "cell_type": "markdown",
   "metadata": {},
   "source": [
    "# Problème 41 : Terminé"
   ]
  },
  {
   "cell_type": "code",
   "execution_count": null,
   "metadata": {
    "collapsed": true
   },
   "outputs": [],
   "source": [
    "L_premiers = nombres_premiers(10 ** 7)"
   ]
  },
  {
   "cell_type": "code",
   "execution_count": 53,
   "metadata": {},
   "outputs": [
    {
     "data": {
      "text/plain": [
       "7652413"
      ]
     },
     "execution_count": 53,
     "metadata": {},
     "output_type": "execute_result"
    }
   ],
   "source": [
    "result = []\n",
    "for j in range(7):\n",
    "    ref = {str(i) for i in range(1, j + 2)}\n",
    "    for i in range(10**j, 10**(j+1)):\n",
    "        if set(str(i)) == ref and appartient_liste_trie(i, L_premiers):\n",
    "            result.append(i)\n",
    "\n",
    "max(result)"
   ]
  },
  {
   "cell_type": "markdown",
   "metadata": {},
   "source": [
    "# Problème 42: Terminé"
   ]
  },
  {
   "cell_type": "code",
   "execution_count": 92,
   "metadata": {
    "collapsed": true
   },
   "outputs": [],
   "source": [
    "filename = 'p042_words.txt'\n",
    "with open(filename, 'r') as mon_fichier:\n",
    "    texte = mon_fichier.read()\n",
    "texte = texte.replace('\"', \"\").split(\",\")"
   ]
  },
  {
   "cell_type": "code",
   "execution_count": 93,
   "metadata": {
    "collapsed": true
   },
   "outputs": [],
   "source": [
    "mon_dictionnaire = {\"A\":1, \"B\":2, \"C\":3, \"D\":4, \"E\":5, \"F\":6, \"G\":7, \"H\":8, \"I\":9, \"J\":10,\n",
    "                   \"K\":11, \"L\":12, \"M\":13, \"N\":14, \"O\":15, \"P\":16, \"Q\":17, \"R\":18, \"S\":19,\n",
    "                   \"T\":20, \"U\":21, \"V\":22, \"W\":23, \"X\":24, \"Y\":25, \"Z\":26}"
   ]
  },
  {
   "cell_type": "code",
   "execution_count": 94,
   "metadata": {},
   "outputs": [
    {
     "data": {
      "text/plain": [
       "162"
      ]
     },
     "execution_count": 94,
     "metadata": {},
     "output_type": "execute_result"
    }
   ],
   "source": [
    "t = [int(n * (n + 1) / 2) for n in range(1, 10 ** 6)]\n",
    "resultat = 0\n",
    "for mot in texte:\n",
    "    L = [lettre for lettre in mot]\n",
    "    nombre = 0\n",
    "    for k in range(len(L)):\n",
    "        nombre += mon_dictionnaire[L[k]]\n",
    "    if appartient_liste_trie(nombre, t):\n",
    "        resultat += 1\n",
    "\n",
    "resultat"
   ]
  },
  {
   "cell_type": "markdown",
   "metadata": {},
   "source": [
    "# Problème 43: En cours"
   ]
  },
  {
   "cell_type": "code",
   "execution_count": null,
   "metadata": {
    "collapsed": true
   },
   "outputs": [],
   "source": [
    "# Il faut un code pour donner toutes les permutations d'une liste/ d'un nombre"
   ]
  },
  {
   "cell_type": "code",
   "execution_count": null,
   "metadata": {
    "collapsed": true
   },
   "outputs": [],
   "source": [
    "liste_pandigital = []\n",
    "L1 = list(np.arange(10))\n",
    "test = permutliste(L1, er=True) # à coder\n",
    "test_transfo = []\n",
    "for elt in test:\n",
    "    a = ''\n",
    "    L = [str(i) for i in elt]\n",
    "    for elt1 in L:\n",
    "        a += elt1\n",
    "    test_transfo.append(a)"
   ]
  },
  {
   "cell_type": "code",
   "execution_count": null,
   "metadata": {
    "collapsed": true
   },
   "outputs": [],
   "source": [
    "liste_finale = []\n",
    "div = [2, 3, 5, 7, 11, 13, 17]\n",
    "for mot in test_tranfo:\n",
    "    condition = True\n",
    "    i = 1\n",
    "    while condition and i <= 8:\n",
    "        if int(mot[i: i+3]) % div[i - 1] !=0:\n",
    "            condition = False\n",
    "        i += 1\n",
    "    if condition:\n",
    "        liste_finale.append(mot)\n",
    "sum(liste_finale)"
   ]
  },
  {
   "cell_type": "markdown",
   "metadata": {},
   "source": [
    "# Problème 44: Terminé"
   ]
  },
  {
   "cell_type": "code",
   "execution_count": 150,
   "metadata": {
    "collapsed": true
   },
   "outputs": [],
   "source": [
    "pentagonal = [int(n * (3 * n - 1) / 2) for n in range(1, 10 ** 4)]"
   ]
  },
  {
   "cell_type": "code",
   "execution_count": 151,
   "metadata": {},
   "outputs": [
    {
     "name": "stdout",
     "output_type": "stream",
     "text": [
      "5482660\n"
     ]
    }
   ],
   "source": [
    "d_min = 10 ** 6\n",
    "for k in range(100, len(pentagonal)):\n",
    "    #print(\"k est \" + str(k))\n",
    "    mot1 = pentagonal[k]\n",
    "    j = 1\n",
    "    not_finish = True\n",
    "    while k + j < len(pentagonal) - 1 and  j <= d_min and not_finish:\n",
    "        mot2 = pentagonal[k + j]\n",
    "        if (appartient_liste_trie(mot1 + mot2, pentagonal) \n",
    "            and appartient_liste_trie(mot2 - mot1, pentagonal)):\n",
    "            not_finish = False\n",
    "            d_min = mot2 - mot1\n",
    "            print(d_min)\n",
    "        j += 1  "
   ]
  },
  {
   "cell_type": "markdown",
   "metadata": {
    "collapsed": true
   },
   "source": [
    "# Problème 45: En cours"
   ]
  },
  {
   "cell_type": "code",
   "execution_count": null,
   "metadata": {
    "collapsed": true
   },
   "outputs": [],
   "source": [
    "Tn=n(n+1)/2\n",
    "Pn=n(3n−1)/2"
   ]
  },
  {
   "cell_type": "code",
   "execution_count": null,
   "metadata": {
    "collapsed": true
   },
   "outputs": [],
   "source": [
    "n1 = 1\n",
    "n2 = 1\n",
    "pas_fini = True\n",
    "T_max = True\n",
    "P_max = True\n",
    "while pas_fini:\n",
    "    if T_max:\n",
    "        \n",
    "    "
   ]
  }
 ],
 "metadata": {
  "anaconda-cloud": {},
  "kernelspec": {
   "display_name": "Python3.6",
   "language": "python",
   "name": "myenv"
  },
  "language_info": {
   "codemirror_mode": {
    "name": "ipython",
    "version": 3
   },
   "file_extension": ".py",
   "mimetype": "text/x-python",
   "name": "python",
   "nbconvert_exporter": "python",
   "pygments_lexer": "ipython3",
   "version": "3.6.3"
  }
 },
 "nbformat": 4,
 "nbformat_minor": 1
}
